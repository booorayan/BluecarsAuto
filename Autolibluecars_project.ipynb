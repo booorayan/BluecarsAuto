{
  "nbformat": 4,
  "nbformat_minor": 0,
  "metadata": {
    "colab": {
      "name": "Autolibluecars_project.ipynb",
      "version": "0.3.2",
      "provenance": [],
      "include_colab_link": true
    },
    "kernelspec": {
      "name": "python3",
      "display_name": "Python 3"
    }
  },
  "cells": [
    {
      "cell_type": "markdown",
      "metadata": {
        "id": "view-in-github",
        "colab_type": "text"
      },
      "source": [
        "<a href=\"https://colab.research.google.com/github/booorayan/BluecarsAuto/blob/master/Autolibluecars_project.ipynb\" target=\"_parent\"><img src=\"https://colab.research.google.com/assets/colab-badge.svg\" alt=\"Open In Colab\"/></a>"
      ]
    },
    {
      "cell_type": "markdown",
      "metadata": {
        "id": "oFOgqxyOHZgr",
        "colab_type": "text"
      },
      "source": [
        "# Hypothesis Testing Project"
      ]
    },
    {
      "cell_type": "markdown",
      "metadata": {
        "id": "MGVZD_bzHtCv",
        "colab_type": "text"
      },
      "source": [
        "## Defining the Question "
      ]
    },
    {
      "cell_type": "markdown",
      "metadata": {
        "id": "3c07dV7dH2F9",
        "colab_type": "text"
      },
      "source": [
        "### Hypothesis"
      ]
    },
    {
      "cell_type": "markdown",
      "metadata": {
        "id": "9__0nVZbIkp3",
        "colab_type": "text"
      },
      "source": [
        ""
      ]
    },
    {
      "cell_type": "markdown",
      "metadata": {
        "id": "Ov3FgpTwINRD",
        "colab_type": "text"
      },
      "source": [
        "### Context"
      ]
    },
    {
      "cell_type": "markdown",
      "metadata": {
        "id": "OVBndf72Il60",
        "colab_type": "text"
      },
      "source": [
        ""
      ]
    },
    {
      "cell_type": "markdown",
      "metadata": {
        "id": "xXgZOOzCIERR",
        "colab_type": "text"
      },
      "source": [
        "### Metrics for Success"
      ]
    },
    {
      "cell_type": "markdown",
      "metadata": {
        "id": "pLYM2q-5InNP",
        "colab_type": "text"
      },
      "source": [
        ""
      ]
    },
    {
      "cell_type": "markdown",
      "metadata": {
        "id": "Ci8LsfwWIRMs",
        "colab_type": "text"
      },
      "source": [
        "### Experimental Design"
      ]
    },
    {
      "cell_type": "markdown",
      "metadata": {
        "id": "FmI1L61uIon_",
        "colab_type": "text"
      },
      "source": [
        ""
      ]
    },
    {
      "cell_type": "markdown",
      "metadata": {
        "id": "t6KCM-7NIXkJ",
        "colab_type": "text"
      },
      "source": [
        "### Appropriateness of Data Provided"
      ]
    },
    {
      "cell_type": "markdown",
      "metadata": {
        "id": "nqIhUoNCIprT",
        "colab_type": "text"
      },
      "source": [
        ""
      ]
    }
  ]
}